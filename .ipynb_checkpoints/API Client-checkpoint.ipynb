{
 "cells": [
  {
   "cell_type": "code",
   "execution_count": 1,
   "id": "2a838457",
   "metadata": {},
   "outputs": [],
   "source": [
    "import tweepy\n",
    "#this is imported directly to the jupyter itself\n",
    "import webbrowser\n",
    "import time"
   ]
  },
  {
   "cell_type": "code",
   "execution_count": 2,
   "id": "4e1d6a41",
   "metadata": {},
   "outputs": [],
   "source": [
    "consumer_key = \"b64Yh2GPj992uCzsWmqklXpXL\"\n",
    "consumer_secret = \"AY7O9jMS3XxXYzGPmeVhLP1a4jnE8kIVYutwApl9mQqNRwePk6\""
   ]
  },
  {
   "cell_type": "code",
   "execution_count": 3,
   "id": "e23f263c",
   "metadata": {},
   "outputs": [],
   "source": [
    "callback_uri = 'oob'"
   ]
  },
  {
   "cell_type": "code",
   "execution_count": 6,
   "id": "9a7df295",
   "metadata": {},
   "outputs": [],
   "source": [
    "#this is more from the tweepy library\n",
    "auth = tweepy.OAuthHandler(consumer_key, consumer_secret, callback_uri)"
   ]
  },
  {
   "cell_type": "code",
   "execution_count": 7,
   "id": "d5711a4e",
   "metadata": {},
   "outputs": [],
   "source": [
    "redirect_url = auth.get_authorization_url()\n",
    "print(redirect_url)"
   ]
  },
  {
   "cell_type": "code",
   "execution_count": null,
   "id": "840c3471",
   "metadata": {},
   "outputs": [],
   "source": [
    "webbrowser.open()"
   ]
  }
 ],
 "metadata": {
  "kernelspec": {
   "display_name": "Python 3 (ipykernel)",
   "language": "python",
   "name": "python3"
  },
  "language_info": {
   "codemirror_mode": {
    "name": "ipython",
    "version": 3
   },
   "file_extension": ".py",
   "mimetype": "text/x-python",
   "name": "python",
   "nbconvert_exporter": "python",
   "pygments_lexer": "ipython3",
   "version": "3.8.8"
  }
 },
 "nbformat": 4,
 "nbformat_minor": 5
}
