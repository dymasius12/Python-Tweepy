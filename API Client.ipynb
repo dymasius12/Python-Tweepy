{
 "cells": [
  {
   "cell_type": "code",
   "execution_count": 1,
   "id": "e16a4140",
   "metadata": {},
   "outputs": [],
   "source": [
    "import tweepy\n",
    "#this is imported directly to the jupyter itself\n",
    "import webbrowser\n",
    "import time"
   ]
  },
  {
   "cell_type": "code",
   "execution_count": 2,
   "id": "bfbd7aff",
   "metadata": {},
   "outputs": [],
   "source": [
    "consumer_key = \"b64Yh2GPj992uCzsWmqklXpXL\"\n",
    "consumer_secret = \"AY7O9jMS3XxXYzGPmeVhLP1a4jnE8kIVYutwApl9mQqNRwePk6\""
   ]
  },
  {
   "cell_type": "code",
   "execution_count": 3,
   "id": "e959e271",
   "metadata": {},
   "outputs": [],
   "source": [
    "callback_uri = 'oob'"
   ]
  },
  {
   "cell_type": "code",
   "execution_count": 4,
   "id": "5fd42f43",
   "metadata": {},
   "outputs": [
    {
     "name": "stdout",
     "output_type": "stream",
     "text": [
      "https://api.twitter.com/oauth/authorize?oauth_token=g6QuwAAAAAABhE6pAAABg0HfOS0\n"
     ]
    }
   ],
   "source": [
    "#this is more from the tweepy library\n",
    "auth = tweepy.OAuthHandler(consumer_key, consumer_secret, callback_uri)\n",
    "\n",
    "redirect_url = auth.get_authorization_url()\n",
    "print(redirect_url)"
   ]
  },
  {
   "cell_type": "code",
   "execution_count": 5,
   "id": "4dbe5a76",
   "metadata": {},
   "outputs": [
    {
     "data": {
      "text/plain": [
       "True"
      ]
     },
     "execution_count": 5,
     "metadata": {},
     "output_type": "execute_result"
    }
   ],
   "source": [
    "webbrowser.open(redirect_url)"
   ]
  },
  {
   "cell_type": "code",
   "execution_count": null,
   "id": "10199cca",
   "metadata": {},
   "outputs": [],
   "source": [
    "user_pint_input = input(\"what's the pin value?\")"
   ]
  },
  {
   "cell_type": "code",
   "execution_count": null,
   "id": "a249d3bd",
   "metadata": {},
   "outputs": [],
   "source": []
  }
 ],
 "metadata": {
  "kernelspec": {
   "display_name": "Python 3 (ipykernel)",
   "language": "python",
   "name": "python3"
  },
  "language_info": {
   "codemirror_mode": {
    "name": "ipython",
    "version": 3
   },
   "file_extension": ".py",
   "mimetype": "text/x-python",
   "name": "python",
   "nbconvert_exporter": "python",
   "pygments_lexer": "ipython3",
   "version": "3.8.8"
  }
 },
 "nbformat": 4,
 "nbformat_minor": 5
}
